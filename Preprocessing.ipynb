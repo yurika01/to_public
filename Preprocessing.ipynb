{
 "cells": [
  {
   "cell_type": "markdown",
   "metadata": {},
   "source": [
    "# Preprocessing"
   ]
  },
  {
   "cell_type": "code",
   "execution_count": null,
   "metadata": {},
   "outputs": [],
   "source": [
    "def reduce_mem_usage(df, verbose=True):\n",
    "    numerics = ['int16', 'int32', 'int64', 'float16', 'float32', 'float64']\n",
    "    start_mem = df.memory_usage().sum() / 1024**2    \n",
    "    for col in df.columns:\n",
    "        col_type = df[col].dtypes\n",
    "        if col_type in numerics:\n",
    "            c_min = df[col].min()\n",
    "            c_max = df[col].max()\n",
    "            if str(col_type)[:3] == 'int':\n",
    "                if c_min > np.iinfo(np.int8).min and c_max < np.iinfo(np.int8).max:\n",
    "                    df[col] = df[col].astype(np.int8)\n",
    "                elif c_min > np.iinfo(np.int16).min and c_max < np.iinfo(np.int16).max:\n",
    "                    df[col] = df[col].astype(np.int16)\n",
    "                elif c_min > np.iinfo(np.int32).min and c_max < np.iinfo(np.int32).max:\n",
    "                    df[col] = df[col].astype(np.int32)\n",
    "                elif c_min > np.iinfo(np.int64).min and c_max < np.iinfo(np.int64).max:\n",
    "                    df[col] = df[col].astype(np.int64)  \n",
    "            else:\n",
    "                if c_min > np.finfo(np.float16).min and c_max < np.finfo(np.float16).max:\n",
    "                    df[col] = df[col].astype(np.float16)\n",
    "                elif c_min > np.finfo(np.float32).min and c_max < np.finfo(np.float32).max:\n",
    "                    df[col] = df[col].astype(np.float32)\n",
    "                else:\n",
    "                    df[col] = df[col].astype(np.float64)    \n",
    "    end_mem = df.memory_usage().sum() / 1024**2\n",
    "    return df\n",
    "\n",
    "\n",
    "class PreproResults:\n",
    "    def __init__(self, read_results):\n",
    "        self.prepro_results = read_results\n",
    "\n",
    "    def preprocessing(self):\n",
    "        df =self. prepro_results.copy()\n",
    "        \n",
    "        #数が0のデータの削除\n",
    "        df = df[df['NAME']> 0]\n",
    "    \n",
    "        #NAMEの特徴量追加\n",
    "        agg_df =  df.groupby(['DATE']).agg({'NAME': ['min','max','sum', 'mean','std']})\n",
    "        agg_df.columns = [ '_'.join(col) for col in agg_df.columns.values]\n",
    "        agg_df.reset_index(inplace=True)\n",
    "        df = pd.merge(df, agg_df, on='DATE', how='left')\n",
    "    \n",
    "        #NAME1の特徴量追加\n",
    "        agg_df =  df.groupby(['DATE']).agg({'NAME1': ['min','max','sum', 'mean','std']})\n",
    "        agg_df.columns = [ '_'.join(col) for col in agg_df.columns.values]\n",
    "        agg_df.reset_index(inplace=True)\n",
    "        df = pd.merge(df, agg_df, on='DATE', how='left')\n",
    "    \n",
    "    \n",
    "        #NAME3の特徴量追加\n",
    "        agg_df =  df.groupby(['DATE']).agg({'NAME3': ['sum']})\n",
    "        agg_df.columns = [ '_'.join(col) for col in agg_df.columns.values]\n",
    "        agg_df.reset_index(inplace=True)\n",
    "        df = pd.merge(df, agg_df, on='DATE', how='left')        \n",
    "        df['date'] = pd.to_datetime(df['DATE'])\n",
    "        del df['NAME4'], df['NAME5'], df['DATE']\n",
    "        gc.collect()\n",
    "        \n",
    "        #メモリの削減\n",
    "        df = reduce_mem_usage(df)\n",
    "    \n",
    "        self.prepro_results = df"
   ]
  },
  {
   "cell_type": "code",
   "execution_count": null,
   "metadata": {},
   "outputs": [],
   "source": [
    "rr = PreproResults(read_results)\n",
    "rr.preprocessing()\n",
    "rr.prepro_results"
   ]
  }
 ],
 "metadata": {
  "kernelspec": {
   "display_name": "Python 3",
   "language": "python",
   "name": "python3"
  },
  "language_info": {
   "codemirror_mode": {
    "name": "ipython",
    "version": 3
   },
   "file_extension": ".py",
   "mimetype": "text/x-python",
   "name": "python",
   "nbconvert_exporter": "python",
   "pygments_lexer": "ipython3",
   "version": "3.7.4"
  },
  "toc": {
   "base_numbering": 1,
   "nav_menu": {},
   "number_sections": true,
   "sideBar": true,
   "skip_h1_title": false,
   "title_cell": "Table of Contents",
   "title_sidebar": "Contents",
   "toc_cell": false,
   "toc_position": {},
   "toc_section_display": true,
   "toc_window_display": false
  },
  "varInspector": {
   "cols": {
    "lenName": 16,
    "lenType": 16,
    "lenVar": 40
   },
   "kernels_config": {
    "python": {
     "delete_cmd_postfix": "",
     "delete_cmd_prefix": "del ",
     "library": "var_list.py",
     "varRefreshCmd": "print(var_dic_list())"
    },
    "r": {
     "delete_cmd_postfix": ") ",
     "delete_cmd_prefix": "rm(",
     "library": "var_list.r",
     "varRefreshCmd": "cat(var_dic_list()) "
    }
   },
   "types_to_exclude": [
    "module",
    "function",
    "builtin_function_or_method",
    "instance",
    "_Feature"
   ],
   "window_display": false
  }
 },
 "nbformat": 4,
 "nbformat_minor": 4
}
